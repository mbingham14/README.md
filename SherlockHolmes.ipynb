{
  "nbformat": 4,
  "nbformat_minor": 0,
  "metadata": {
    "colab": {
      "provenance": [],
      "include_colab_link": true
    },
    "kernelspec": {
      "name": "python3",
      "display_name": "Python 3"
    },
    "language_info": {
      "name": "python"
    }
  },
  "cells": [
    {
      "cell_type": "markdown",
      "metadata": {
        "id": "view-in-github",
        "colab_type": "text"
      },
      "source": [
        "<a href=\"https://colab.research.google.com/github/mbingham14/README.md/blob/main/SherlockHolmes.ipynb\" target=\"_parent\"><img src=\"https://colab.research.google.com/assets/colab-badge.svg\" alt=\"Open In Colab\"/></a>"
      ]
    },
    {
      "cell_type": "markdown",
      "source": [
        "Our questions are:\n",
        "\n",
        "how many time is Sherlock's name mentioned\n",
        "how many times Watson's name is mentioned\n",
        "who's name is mentioned the most\n",
        "how many times is Holmes mentioned\n",
        "how many times is Sherlock Holmes full name is mentioned"
      ],
      "metadata": {
        "id": "aZjW1J-hJfm9"
      }
    },
    {
      "cell_type": "code",
      "execution_count": 1,
      "metadata": {
        "id": "9mCAZ0iv6CuS",
        "colab": {
          "base_uri": "https://localhost:8080/"
        },
        "outputId": "0af55e8f-eb4d-4c73-8e0f-3e66669fb696"
      },
      "outputs": [
        {
          "output_type": "stream",
          "name": "stdout",
          "text": [
            "[['Sherlock'], ['Sherlock'], ['Sherlock'], ['Sherlock'], ['Sherlock'], ['Sherlock'], ['Sherlock'], ['Sherlock'], ['Sherlock'], ['Sherlock'], ['Sherlock'], ['Sherlock'], ['Sherlock'], ['Sherlock'], ['Sherlock'], ['Sherlock'], ['Sherlock'], ['Sherlock'], ['Sherlock'], ['Sherlock'], ['Sherlock'], ['Sherlock'], ['Sherlock'], ['Sherlock'], ['Sherlock'], ['Sherlock'], ['Sherlock'], ['Sherlock'], ['Sherlock'], ['Sherlock'], ['Sherlock'], ['Sherlock'], ['Sherlock'], ['Sherlock'], ['Sherlock'], ['Sherlock'], ['Sherlock'], ['Sherlock'], ['Sherlock'], ['Sherlock'], ['Sherlock'], ['Sherlock'], ['Sherlock'], ['Sherlock'], ['Sherlock'], ['Sherlock'], ['Sherlock'], ['Sherlock']]\n",
            "[['Watson'], ['Watson'], ['Watson'], ['Watson'], ['Watson'], ['Watson']]\n",
            "[['Holmes'], ['Holmes'], ['Holmes'], ['Holmes'], ['Holmes'], ['Holmes'], ['Holmes'], ['Holmes'], ['Holmes'], ['Holmes'], ['Holmes'], ['Holmes'], ['Holmes'], ['Holmes'], ['Holmes'], ['Holmes'], ['Holmes'], ['Holmes'], ['Holmes'], ['Holmes'], ['Holmes'], ['Holmes'], ['Holmes'], ['Holmes'], ['Holmes'], ['Holmes'], ['Holmes'], ['Holmes'], ['Holmes'], ['Holmes'], ['Holmes'], ['Holmes'], ['Holmes'], ['Holmes'], ['Holmes'], ['Holmes'], ['Holmes'], ['Holmes'], ['Holmes'], ['Holmes'], ['Holmes'], ['Holmes'], ['Holmes'], ['Holmes'], ['Holmes'], ['Holmes'], ['Holmes'], ['Holmes'], ['Holmes'], ['Holmes'], ['Holmes'], ['Holmes'], ['Holmes'], ['Holmes'], ['Holmes'], ['Holmes'], ['Holmes'], ['Holmes'], ['Holmes'], ['Holmes'], ['Holmes'], ['Holmes'], ['Holmes'], ['Holmes'], ['Holmes'], ['Holmes'], ['Holmes'], ['Holmes'], ['Holmes'], ['Holmes'], ['Holmes'], ['Holmes'], ['Holmes'], ['Holmes'], ['Holmes'], ['Holmes'], ['Holmes'], ['Holmes'], ['Holmes'], ['Holmes'], ['Holmes'], ['Holmes'], ['Holmes'], ['Holmes'], ['Holmes'], ['Holmes'], ['Holmes'], ['Holmes'], ['Holmes'], ['Holmes'], ['Holmes'], ['Holmes'], ['Holmes'], ['Holmes']]\n",
            "[['Sherlock Holmes'], ['Sherlock Holmes'], ['Sherlock Holmes'], ['Sherlock Holmes'], ['Sherlock Holmes'], ['Sherlock Holmes'], ['Sherlock Holmes'], ['Sherlock Holmes'], ['Sherlock Holmes'], ['Sherlock Holmes'], ['Sherlock Holmes'], ['Sherlock Holmes'], ['Sherlock Holmes'], ['Sherlock Holmes'], ['Sherlock Holmes'], ['Sherlock Holmes'], ['Sherlock Holmes'], ['Sherlock Holmes'], ['Sherlock Holmes'], ['Sherlock Holmes'], ['Sherlock Holmes'], ['Sherlock Holmes'], ['Sherlock Holmes'], ['Sherlock Holmes'], ['Sherlock Holmes'], ['Sherlock Holmes'], ['Sherlock Holmes'], ['Sherlock Holmes'], ['Sherlock Holmes'], ['Sherlock Holmes'], ['Sherlock Holmes'], ['Sherlock Holmes'], ['Sherlock Holmes'], ['Sherlock Holmes'], ['Sherlock Holmes'], ['Sherlock Holmes'], ['Sherlock Holmes'], ['Sherlock Holmes'], ['Sherlock Holmes'], ['Sherlock Holmes'], ['Sherlock Holmes'], ['Sherlock Holmes'], ['Sherlock Holmes'], ['Sherlock Holmes'], ['Sherlock Holmes'], ['Sherlock Holmes'], ['Sherlock Holmes']]\n",
            "48\n",
            "6\n",
            "94\n",
            "47\n"
          ]
        }
      ],
      "source": [
        "import urllib.request\n",
        "import re\n",
        "import matplotlib.pyplot as plt\n",
        "hand = urllib.request.urlopen('https://www.gutenberg.org/files/244/244-h/244-h.htm')\n",
        "sherlock = []\n",
        "watson =[]\n",
        "holmes = []\n",
        "sherlock_holmes = []\n",
        "\n",
        "for line in hand:\n",
        "    line = line.decode().strip()\n",
        "    #d =  re.findall('Sherlock Watson Holmes', line)\n",
        "    d =  re.findall('Sherlock', line)\n",
        "    b = re.findall('Watson', line)\n",
        "    h = re.findall('Holmes', line)\n",
        "    x = re.findall('Sherlock Holmes', line)\n",
        "\n",
        "    if d != []:\n",
        "        sherlock.append(d)\n",
        "    if b != []:\n",
        "      watson.append(b)\n",
        "    if h != []:\n",
        "      holmes.append(h)\n",
        "    if x != []:\n",
        "      sherlock_holmes.append(x)\n",
        "\n",
        "print(sherlock)\n",
        "print(watson)\n",
        "print(holmes)\n",
        "print(sherlock_holmes)\n",
        "\n",
        "print(len(sherlock))\n",
        "print(len(watson))\n",
        "print(len(holmes))\n",
        "print(len(sherlock_holmes))\n"
      ]
    }
  ]
}